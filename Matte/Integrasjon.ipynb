{
 "cells": [
  {
   "cell_type": "code",
   "execution_count": null,
   "metadata": {},
   "outputs": [],
   "source": [
    "import math as m\n",
    "\n",
    "def dx(a, b, n, r):\n",
    "    a, b, n, r = float(a), float(b), int(n), float(r)\n",
    "\n",
    "    g = input(\"f(x) = \")\n",
    "    f = lambda x: eval(g)\n",
    "\n",
    "    delta = (b - a) / n\n",
    "    sum = 0\n",
    "\n",
    "    for i in range(n):\n",
    "        sum += f(a + (i + r) * delta) * delta\n",
    "    print(f\"Riemannsum: {sum}\")\n",
    "\n",
    "dx(input(\"Startverdi:\"), input(\"Sluttverdi:\"), input(\"Antall søyler:\"), input(\"Avstand mellom xi og x* [0, 1]:\"))"
   ]
  },
  {
   "cell_type": "code",
   "execution_count": null,
   "metadata": {},
   "outputs": [],
   "source": [
    "import math as m\n",
    "\n",
    "def dx(a, b, n):\n",
    "    a, b, n = float(a), float(b), int(n)\n",
    "\n",
    "    g = input(\"f(x) = \")\n",
    "    f = lambda x: eval(g)\n",
    "\n",
    "    delta = (b - a) / n\n",
    "    sum = 0\n",
    "\n",
    "    for i in range(n):\n",
    "        sum += (f(a + i * delta) + f(a + (i + 1) * delta)) / 2 * delta\n",
    "    print(f\"Trapestilnærming: {sum}\")\n",
    "\n",
    "dx(input(\"Startverdi:\"), input(\"Sluttverdi:\"), input(\"Antall søyler:\"))"
   ]
  }
 ],
 "metadata": {
  "kernelspec": {
   "display_name": "Python 3",
   "language": "python",
   "name": "python3"
  },
  "language_info": {
   "codemirror_mode": {
    "name": "ipython",
    "version": 3
   },
   "file_extension": ".py",
   "mimetype": "text/x-python",
   "name": "python",
   "nbconvert_exporter": "python",
   "pygments_lexer": "ipython3",
   "version": "3.12.0"
  }
 },
 "nbformat": 4,
 "nbformat_minor": 2
}
